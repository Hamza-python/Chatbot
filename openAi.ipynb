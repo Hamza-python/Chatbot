{
 "cells": [
  {
   "cell_type": "code",
   "execution_count": 1,
   "id": "3bc4ed5d",
   "metadata": {},
   "outputs": [
    {
     "name": "stdout",
     "output_type": "stream",
     "text": [
      "Defaulting to user installation because normal site-packages is not writeable\n",
      "Collecting openai\n",
      "  Using cached openai-0.27.7-py3-none-any.whl (71 kB)\n",
      "Requirement already satisfied: requests>=2.20 in c:\\programdata\\anaconda3\\lib\\site-packages (from openai) (2.28.1)\n",
      "Collecting aiohttp\n",
      "  Downloading aiohttp-3.8.4-cp39-cp39-win_amd64.whl (323 kB)\n",
      "     ------------------------------------ 323.6/323.6 kB 771.9 kB/s eta 0:00:00\n",
      "Requirement already satisfied: tqdm in c:\\programdata\\anaconda3\\lib\\site-packages (from openai) (4.64.1)\n",
      "Requirement already satisfied: urllib3<1.27,>=1.21.1 in c:\\programdata\\anaconda3\\lib\\site-packages (from requests>=2.20->openai) (1.26.11)\n",
      "Requirement already satisfied: certifi>=2017.4.17 in c:\\programdata\\anaconda3\\lib\\site-packages (from requests>=2.20->openai) (2022.9.14)\n",
      "Requirement already satisfied: charset-normalizer<3,>=2 in c:\\programdata\\anaconda3\\lib\\site-packages (from requests>=2.20->openai) (2.0.4)\n",
      "Requirement already satisfied: idna<4,>=2.5 in c:\\programdata\\anaconda3\\lib\\site-packages (from requests>=2.20->openai) (3.3)\n",
      "Collecting async-timeout<5.0,>=4.0.0a3\n",
      "  Using cached async_timeout-4.0.2-py3-none-any.whl (5.8 kB)\n",
      "Requirement already satisfied: attrs>=17.3.0 in c:\\programdata\\anaconda3\\lib\\site-packages (from aiohttp->openai) (21.4.0)\n",
      "Collecting frozenlist>=1.1.1\n",
      "  Downloading frozenlist-1.3.3-cp39-cp39-win_amd64.whl (34 kB)\n",
      "Collecting yarl<2.0,>=1.0\n",
      "  Downloading yarl-1.9.2-cp39-cp39-win_amd64.whl (61 kB)\n",
      "     ---------------------------------------- 61.7/61.7 kB 3.4 MB/s eta 0:00:00\n",
      "Collecting multidict<7.0,>=4.5\n",
      "  Downloading multidict-6.0.4-cp39-cp39-win_amd64.whl (28 kB)\n",
      "Collecting aiosignal>=1.1.2\n",
      "  Using cached aiosignal-1.3.1-py3-none-any.whl (7.6 kB)\n",
      "Requirement already satisfied: colorama in c:\\programdata\\anaconda3\\lib\\site-packages (from tqdm->openai) (0.4.5)\n",
      "Installing collected packages: multidict, frozenlist, async-timeout, yarl, aiosignal, aiohttp, openai\n",
      "Successfully installed aiohttp-3.8.4 aiosignal-1.3.1 async-timeout-4.0.2 frozenlist-1.3.3 multidict-6.0.4 openai-0.27.7 yarl-1.9.2\n",
      "Note: you may need to restart the kernel to use updated packages.\n"
     ]
    },
    {
     "name": "stderr",
     "output_type": "stream",
     "text": [
      "  WARNING: The script openai.exe is installed in 'C:\\Users\\hamza\\AppData\\Roaming\\Python\\Python39\\Scripts' which is not on PATH.\n",
      "  Consider adding this directory to PATH or, if you prefer to suppress this warning, use --no-warn-script-location.\n"
     ]
    }
   ],
   "source": [
    "pip install openai"
   ]
  },
  {
   "cell_type": "code",
   "execution_count": 3,
   "id": "5b012114",
   "metadata": {},
   "outputs": [],
   "source": [
    "import tkinter as tk\n",
    "from tkinter import scrolledtext\n",
    "import requests\n",
    "\n",
    "def query_chatgpt(message):\n",
    "    url = \"https://api.openai.com/v1/chat/completions\"\n",
    "    headers = {\n",
    "        \"Content-Type\": \"application/json\",\n",
    "        # Write your API Key from Your OpenAI in the place of YOUR_API_KEY.\n",
    "        \"Authorization\": \"Bearer YOUR_API_KEY\"\n",
    "    }\n",
    "    data = {\n",
    "        \"model\": \"gpt-3.5-turbo\",\n",
    "        \"messages\": [\n",
    "            {\"role\": \"system\", \"content\": \"You are a helpful assistant.\"},\n",
    "            {\"role\": \"user\", \"content\": message}\n",
    "        ]\n",
    "    }\n",
    "    \n",
    "    response = requests.post(url, headers=headers, json=data)\n",
    "    response_data = response.json()\n",
    "    \n",
    "    if \"choices\" in response_data:\n",
    "        return response_data[\"choices\"][0][\"message\"][\"content\"]\n",
    "    else:\n",
    "        return \"Oops! Something went wrong.\"\n",
    "\n",
    "def send_message():\n",
    "    message = input_box.get(\"1.0\", tk.END).strip()\n",
    "    if message.lower() == \"bye\":\n",
    "        chat_history.configure(state=tk.NORMAL)\n",
    "        chat_history.insert(tk.END, \"User: \" + message + \"\\n\")\n",
    "        chat_history.configure(state=tk.DISABLED)\n",
    "        input_box.delete(\"1.0\", tk.END)\n",
    "        input_box.configure(state=tk.DISABLED)\n",
    "        send_button.configure(state=tk.DISABLED)\n",
    "    else:\n",
    "        chat_history.configure(state=tk.NORMAL)\n",
    "        chat_history.insert(tk.END, \"User: \" + message + \"\\n\\n\")\n",
    "        chat_history.configure(state=tk.DISABLED)\n",
    "        input_box.delete(\"1.0\", tk.END)\n",
    "        response = query_chatgpt(message)\n",
    "        chat_history.configure(state=tk.NORMAL)\n",
    "        chat_history.insert(tk.END, \"Superior Chatbot: \" + response + \"\\n\\n\")\n",
    "        chat_history.configure(state=tk.DISABLED)\n",
    "    \n",
    "def destroy_window():\n",
    "    root.destroy()\n",
    "    \n",
    "root = tk.Tk()\n",
    "root.title(\"Superior Chatbot\")\n",
    "\n",
    "chat_history = scrolledtext.ScrolledText(root, state=tk.NORMAL)\n",
    "chat_history.pack(fill=tk.BOTH, expand=True)\n",
    "\n",
    "input_box = tk.Text(root, height=3)\n",
    "input_box.pack(fill=tk.BOTH, expand=False)\n",
    "\n",
    "send_button = tk.Button(root, text=\"Send\", command=send_message)\n",
    "send_button.pack()\n",
    "\n",
    "destroy_button = tk.Button(root, text=\"Exit\", command=destroy_window)\n",
    "destroy_button.pack()\n",
    "\n",
    "input_box.configure(state=tk.NORMAL)\n",
    "send_button.configure(state=tk.NORMAL)\n",
    "\n",
    "root.mainloop()\n"
   ]
  },
  {
   "cell_type": "code",
   "execution_count": null,
   "id": "f023806f",
   "metadata": {},
   "outputs": [],
   "source": []
  }
 ],
 "metadata": {
  "kernelspec": {
   "display_name": "Python 3 (ipykernel)",
   "language": "python",
   "name": "python3"
  },
  "language_info": {
   "codemirror_mode": {
    "name": "ipython",
    "version": 3
   },
   "file_extension": ".py",
   "mimetype": "text/x-python",
   "name": "python",
   "nbconvert_exporter": "python",
   "pygments_lexer": "ipython3",
   "version": "3.9.13"
  }
 },
 "nbformat": 4,
 "nbformat_minor": 5
}
